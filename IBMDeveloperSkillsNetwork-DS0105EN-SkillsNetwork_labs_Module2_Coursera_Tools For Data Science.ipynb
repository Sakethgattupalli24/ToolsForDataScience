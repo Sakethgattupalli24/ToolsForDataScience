{
  "metadata": {
    "language_info": {
      "codemirror_mode": {
        "name": "python",
        "version": 3
      },
      "file_extension": ".py",
      "mimetype": "text/x-python",
      "name": "python",
      "nbconvert_exporter": "python",
      "pygments_lexer": "ipython3",
      "version": "3.8"
    },
    "kernelspec": {
      "name": "python",
      "display_name": "Pyolite",
      "language": "python"
    }
  },
  "nbformat_minor": 4,
  "nbformat": 4,
  "cells": [
    {
      "cell_type": "markdown",
      "source": "<h1>2.Tools For Data Science</h1>",
      "metadata": {}
    },
    {
      "cell_type": "markdown",
      "source": "<h4>3.In this project we are about to do the code and markdowns according to the exercises.</h4>",
      "metadata": {}
    },
    {
      "cell_type": "markdown",
      "source": "<h3>4.Data Science Languages</h3>\n<h6>Python</h6>\n<h6>R</h6>\n<h6>SQL</h6>\n<h6>C/C++</h6>\n<h6>Scala</h6>\n<h6>Julia</h6>\n<h6>Java</h6>\n<h6>MATLAB</h6>\n<h6>Stata</h6>",
      "metadata": {}
    },
    {
      "cell_type": "markdown",
      "source": "<h3>5.Data Science Libraries</h3>\n<h6>i)NumPy</h6>\n<h6>ii)Pandas</h6>\n<h6>iii)MatPlotlib</h6>\n<h6>iv)sciKit-learn</h6>\n<h6>v)keras</h6>\n<h6>vi)PyTorch</h6>\n<h6>vii)TensorFlow</h6>\n<h6>ix)Seaborn</h6>\n<h6>x)pydot</h6>",
      "metadata": {}
    },
    {
      "cell_type": "markdown",
      "source": "<h3>6.Data Science Tools</h3>",
      "metadata": {}
    },
    {
      "cell_type": "markdown",
      "source": "\n|Data Science tools|\n| --- |\n| SAS|\n|Apache Spark|\n|MATLAB|\n|Excel|\n|NLTK|\n|Jupyter|\n|TensorFlow|\n|scikit Learn|",
      "metadata": {}
    },
    {
      "cell_type": "markdown",
      "source": "<h3>7.Arthematic Expressions Examples</h3>\n<h6>a*b-c</h6>\n<h6>(a+b)*(c+d)</h6>\n<h6>a*x*x+b*x+c</h6>",
      "metadata": {}
    },
    {
      "cell_type": "markdown",
      "source": "<h3>8.Multiply And Add two numbers</h3>",
      "metadata": {}
    },
    {
      "cell_type": "code",
      "source": "def multiply(a,b):\n    return a*b\ndef add(a,b):\n    return a+b\nprint(f\" Multiplication of 5 and 7 is {multiply(5,7)}\")\nprint(f\" Addition of 2 and 3 is {add(2,3)}\")",
      "metadata": {
        "trusted": true
      },
      "execution_count": 6,
      "outputs": [
        {
          "name": "stdout",
          "text": " Multiplication of 5 and 7 is 35\n Addition of 2 and 3 is 5\n",
          "output_type": "stream"
        }
      ]
    },
    {
      "cell_type": "markdown",
      "source": "<h3>9.Coverting Minutes to Hours</h3>\n\n",
      "metadata": {}
    },
    {
      "cell_type": "code",
      "source": "def  ConvertMinToH(min):\n    print(f\"Time is {min//60}:{min%60}\")\nConvertMinToH(430)",
      "metadata": {
        "trusted": true
      },
      "execution_count": 13,
      "outputs": [
        {
          "name": "stdout",
          "text": "Time is 7:10\n",
          "output_type": "stream"
        }
      ]
    },
    {
      "cell_type": "markdown",
      "source": "<h3>10.Objectives:</h3>\n\n<h6>List popular Data Science Languages </h6>\n<h6>List commonly used Data Science libraries </h6>\n<h6>List Data Science Development Tools </h6>\n<h6>Examples of Evaluating Arithmetic expressions in Python </h6>",
      "metadata": {}
    },
    {
      "cell_type": "markdown",
      "source": "<h2>Gattupalli Saketh</h2>",
      "metadata": {}
    },
    {
      "cell_type": "code",
      "source": "",
      "metadata": {},
      "execution_count": null,
      "outputs": []
    }
  ]
}